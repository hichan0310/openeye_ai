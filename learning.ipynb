{
 "cells": [
  {
   "cell_type": "code",
   "execution_count": 78,
   "metadata": {
    "collapsed": true
   },
   "outputs": [],
   "source": [
    "import torch\n",
    "import torch.nn.functional as F\n",
    "import torch.nn as nn\n",
    "import torch.optim as optim\n",
    "from torch import FloatTensor as tensor\n",
    "from torch.utils.data import TensorDataset, DataLoader\n",
    "import torchvision.transforms as transforms\n",
    "import csv\n",
    "import numpy as np\n",
    "import matplotlib.pyplot as plt\n",
    "import cv2\n",
    "import os\n",
    "import random"
   ]
  },
  {
   "cell_type": "code",
   "execution_count": 79,
   "outputs": [],
   "source": [
    "data_size=600\n",
    "batch_size = 10\n",
    "epoches = 300\n",
    "data_min_width = 50\n",
    "data_min_height = 30"
   ],
   "metadata": {
    "collapsed": false
   }
  },
  {
   "cell_type": "code",
   "execution_count": 80,
   "outputs": [],
   "source": [
    "data=[]"
   ],
   "metadata": {
    "collapsed": false
   }
  },
  {
   "cell_type": "code",
   "execution_count": 81,
   "outputs": [
    {
     "name": "stdout",
     "output_type": "stream",
     "text": [
      " 335\n",
      " 335"
     ]
    }
   ],
   "source": [
    "dir_path_open = './opened'\n",
    "for (root, directories, files) in os.walk(dir_path_open):\n",
    "    i = 1\n",
    "    for file in files:\n",
    "        file_path = os.path.join(root, file)\n",
    "        img = cv2.imread(file_path)\n",
    "        if img.shape[0] < data_min_height or img.shape[1] < data_min_width or img.shape[2] != 3:\n",
    "            continue\n",
    "        data.append((np.array(transforms.ToTensor()(cv2.resize(img, (64, 48)))), np.array([0])))\n",
    "        print('\\r', i, end='')\n",
    "        i += 1\n",
    "        if i == 336:\n",
    "            break\n",
    "\n",
    "print()\n",
    "\n",
    "dir_path_open = './closed'\n",
    "for (root, directories, files) in os.walk(dir_path_open):\n",
    "    i = 1\n",
    "    for file in files:\n",
    "        file_path = os.path.join(root, file)\n",
    "        img = cv2.imread(file_path)\n",
    "        if img.shape[0] < data_min_height or img.shape[1] < data_min_width or img.shape[2] != 3:\n",
    "            continue\n",
    "        data.append((np.array(transforms.ToTensor()(cv2.resize(img, (64, 48)))), np.array([1])))\n",
    "        print('\\r', i, end='')\n",
    "        i += 1\n",
    "        if i == 336:\n",
    "            break"
   ],
   "metadata": {
    "collapsed": false
   }
  },
  {
   "cell_type": "code",
   "execution_count": 82,
   "outputs": [],
   "source": [
    "random.shuffle(data)\n",
    "train, test=data[:600], data[600:]\n",
    "x_train, y_train = [], []\n",
    "x_test, y_test = [], []\n",
    "\n",
    "for x, y in train:\n",
    "    x_train.append(x)\n",
    "    y_train.append(y)\n",
    "for x, y in test:\n",
    "    x_test.append(x)\n",
    "    y_test.append(y)\n",
    "\n",
    "x_train=tensor(np.array(x_train))\n",
    "y_train=tensor(np.array(y_train))\n",
    "x_test=tensor(np.array(x_test))\n",
    "y_test=tensor(np.array(y_test))"
   ],
   "metadata": {
    "collapsed": false
   }
  },
  {
   "cell_type": "code",
   "execution_count": 83,
   "outputs": [
    {
     "name": "stdout",
     "output_type": "stream",
     "text": [
      "600 600\n",
      "70 70\n"
     ]
    }
   ],
   "source": [
    "print(len(x_train), len(y_train))\n",
    "print(len(x_test), len(y_test))"
   ],
   "metadata": {
    "collapsed": false
   }
  },
  {
   "cell_type": "code",
   "execution_count": 84,
   "outputs": [
    {
     "data": {
      "text/plain": "torch.Size([600, 3, 48, 64])"
     },
     "execution_count": 84,
     "metadata": {},
     "output_type": "execute_result"
    }
   ],
   "source": [
    "x_train.shape"
   ],
   "metadata": {
    "collapsed": false
   }
  },
  {
   "cell_type": "code",
   "execution_count": 85,
   "outputs": [],
   "source": [
    "class CNN(nn.Module):\n",
    "    def __init__(self):\n",
    "        super().__init__()\n",
    "\n",
    "        # 64, 48, 3 -> 32, 24, 16\n",
    "        self.layer1 = nn.Sequential(\n",
    "            torch.nn.Conv2d(3, 16, kernel_size=5, stride=1, padding=2),\n",
    "            torch.nn.ReLU(),\n",
    "            torch.nn.MaxPool2d(kernel_size=2, stride=2)\n",
    "        )\n",
    "        # 32, 24, 16 -> 16, 12, 32\n",
    "        self.layer2 = nn.Sequential(\n",
    "            torch.nn.Conv2d(16, 64, kernel_size=5, stride=1, padding=2),\n",
    "            torch.nn.ReLU(),\n",
    "            torch.nn.MaxPool2d(kernel_size=4, stride=4)\n",
    "        )\n",
    "        # # 16, 12, 32 -> 8, 6, 64\n",
    "        # self.layer3 = nn.Sequential(\n",
    "        #     torch.nn.Conv2d(32, 64, kernel_size=5, stride=1, padding=2),\n",
    "        #     torch.nn.ReLU(),\n",
    "        #     torch.nn.MaxPool2d(kernel_size=2, stride=2)\n",
    "        # )\n",
    "\n",
    "        # 8, 6, 64 -> 8*6*64=3072\n",
    "        # 3072 -> 384 -> 48 -> 8 -> 1\n",
    "        self.layer4 = nn.Sequential(\n",
    "            nn.Linear(3072, 300),\n",
    "            nn.ReLU(),\n",
    "            nn.Linear(300, 20),\n",
    "            nn.ReLU(),\n",
    "            nn.Linear(20, 1),\n",
    "            nn.Sigmoid()\n",
    "        )\n",
    "\n",
    "        # self.dropout = nn.Dropout(0.1)\n",
    "\n",
    "    def forward(self, x):\n",
    "        x = self.layer1(x)\n",
    "        x = self.layer2(x)\n",
    "        # x = self.layer3(x)\n",
    "        x = x.view(x.size(0), -1)\n",
    "        x = self.layer4(x)\n",
    "        return x\n",
    "\n",
    "model = CNN()\n",
    "optimizer = optim.SGD(model.parameters(), lr=0.005)"
   ],
   "metadata": {
    "collapsed": false
   }
  },
  {
   "cell_type": "code",
   "execution_count": 86,
   "outputs": [],
   "source": [
    "datasets = TensorDataset(x_train, y_train)\n",
    "dataloader = DataLoader(datasets, batch_size=batch_size, shuffle=True)"
   ],
   "metadata": {
    "collapsed": false
   }
  },
  {
   "cell_type": "code",
   "execution_count": 87,
   "outputs": [
    {
     "name": "stdout",
     "output_type": "stream",
     "text": [
      "epoch 0 : 0.69495\n",
      "epoch 10 : 0.68966\n",
      "epoch 20 : 0.67143\n",
      "epoch 30 : 0.38330\n",
      "epoch 40 : 0.24283\n",
      "epoch 50 : 0.18120\n",
      "epoch 60 : 0.15342\n",
      "epoch 70 : 0.15229\n",
      "epoch 80 : 0.10887\n",
      "epoch 90 : 0.09418\n",
      "epoch 100 : 0.07936\n",
      "epoch 110 : 0.05998\n",
      "epoch 120 : 0.04734\n",
      "epoch 130 : 0.03529\n",
      "epoch 140 : 0.03307\n",
      "epoch 150 : 0.02337\n",
      "epoch 160 : 0.01887\n",
      "epoch 170 : 0.01730\n",
      "epoch 180 : 0.01016\n",
      "epoch 190 : 0.01024\n",
      "epoch 200 : 0.00723\n",
      "epoch 210 : 0.00453\n",
      "epoch 220 : 0.00558\n",
      "epoch 230 : 0.01060\n",
      "epoch 240 : 0.00388\n",
      "epoch 250 : 0.00337\n",
      "epoch 260 : 0.00217\n",
      "epoch 270 : 0.00191\n",
      "epoch 280 : 0.00174\n",
      "epoch 290 : 0.00167\n",
      "epoch 300 : 0.00124\n"
     ]
    }
   ],
   "source": [
    "train_cost, test_cost = [], []\n",
    "for epoch in range(epoches + 1):\n",
    "    cost_sum = 0\n",
    "    for batch_ind, sample in enumerate(dataloader):\n",
    "        x, y = sample\n",
    "        prediction = model(x)\n",
    "        cost = F.binary_cross_entropy(prediction, y)\n",
    "        optimizer.zero_grad()\n",
    "        cost.backward()\n",
    "        optimizer.step()\n",
    "        cost_sum += cost.item()\n",
    "    if epoch % 10 == 0:\n",
    "        print(\"epoch {} : {:.5f}\".format(epoch, cost_sum / int(data_size / batch_size)))\n",
    "    prediction = model(x_test)\n",
    "    cost = F.binary_cross_entropy(prediction, y_test)\n",
    "    test_cost.append(cost.item())\n",
    "    train_cost.append(cost_sum / int(data_size / batch_size))"
   ],
   "metadata": {
    "collapsed": false
   }
  },
  {
   "cell_type": "code",
   "execution_count": 89,
   "outputs": [
    {
     "data": {
      "text/plain": "<Figure size 640x480 with 1 Axes>",
      "image/png": "[encoded data removed]"
     },
     "metadata": {},
     "output_type": "display_data"
    }
   ],
   "source": [
    "train_cost = np.array(train_cost)\n",
    "plt.plot(np.arange(len(train_cost)), train_cost, color='blue')\n",
    "test_cost = np.array(test_cost)\n",
    "plt.plot(np.arange(len(test_cost)), test_cost, color='red')\n",
    "plt.title('Training Loss')\n",
    "plt.show()\n",
    "torch.save(model.state_dict(), 'model.pth')"
   ],
   "metadata": {
    "collapsed": false
   }
  },
  {
   "cell_type": "code",
   "execution_count": 90,
   "outputs": [],
   "source": [
    "prediction = model(x_test)"
   ],
   "metadata": {
    "collapsed": false
   }
  },
  {
   "cell_type": "code",
   "execution_count": 91,
   "outputs": [
    {
     "data": {
      "text/plain": "tensor([[1.0000e+00],\n        [4.7551e-06],\n        [3.0487e-09],\n        [1.0143e-01],\n        [7.6163e-04],\n        [1.0000e+00],\n        [2.2122e-08],\n        [5.6977e-01],\n        [1.0000e+00],\n        [1.0000e+00],\n        [9.9990e-01],\n        [1.0000e+00],\n        [9.9668e-01],\n        [1.1336e-08],\n        [1.1669e-07],\n        [9.9611e-01],\n        [9.9998e-01],\n        [1.9027e-01],\n        [2.8067e-07],\n        [1.0607e-10],\n        [4.4156e-10],\n        [9.8107e-01],\n        [9.9866e-01],\n        [1.1356e-11],\n        [1.0000e+00],\n        [1.0627e-07],\n        [2.0144e-14],\n        [9.9863e-01],\n        [1.0025e-03],\n        [1.0000e+00],\n        [9.9707e-01],\n        [8.2179e-15],\n        [9.9968e-01],\n        [9.9999e-01],\n        [1.0000e+00],\n        [3.0280e-11],\n        [2.0703e-04],\n        [4.4295e-07],\n        [1.0000e+00],\n        [1.6026e-09],\n        [1.0000e+00],\n        [4.3574e-10],\n        [1.0000e+00],\n        [7.9357e-07],\n        [9.9991e-01],\n        [1.0000e+00],\n        [2.1265e-03],\n        [1.0000e+00],\n        [4.1649e-07],\n        [1.0000e+00],\n        [1.1081e-06],\n        [1.0000e+00],\n        [2.0025e-07],\n        [2.7330e-11],\n        [1.0000e+00],\n        [8.7837e-08],\n        [4.8722e-01],\n        [1.0000e+00],\n        [7.5230e-08],\n        [9.9994e-01],\n        [9.4672e-13],\n        [9.9999e-01],\n        [3.9244e-11],\n        [1.9592e-06],\n        [1.0000e+00],\n        [1.0000e+00],\n        [9.9992e-01],\n        [9.9997e-01],\n        [1.0000e+00],\n        [1.3050e-06]], grad_fn=<SigmoidBackward0>)"
     },
     "execution_count": 91,
     "metadata": {},
     "output_type": "execute_result"
    }
   ],
   "source": [
    "prediction"
   ],
   "metadata": {
    "collapsed": false
   }
  },
  {
   "cell_type": "code",
   "execution_count": null,
   "outputs": [],
   "source": [],
   "metadata": {
    "collapsed": false
   }
  }
 ],
 "metadata": {
  "kernelspec": {
   "display_name": "Python 3",
   "language": "python",
   "name": "python3"
  },
  "language_info": {
   "codemirror_mode": {
    "name": "ipython",
    "version": 2
   },
   "file_extension": ".py",
   "mimetype": "text/x-python",
   "name": "python",
   "nbconvert_exporter": "python",
   "pygments_lexer": "ipython2",
   "version": "2.7.6"
  }
 },
 "nbformat": 4,
 "nbformat_minor": 0
}
